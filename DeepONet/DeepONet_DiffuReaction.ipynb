{
 "cells": [
  {
   "cell_type": "markdown",
   "id": "d55e4a20",
   "metadata": {},
   "source": [
    "# DeepONet求解扩散反应方程 - PyTorch实现\n",
    "\n",
    "本notebook实现了基于PyTorch的DeepONet算子网络，用于求解一维扩散反应方程。\n",
    "\n",
    "**方程形式**: $u_t = (k(x) u_x)_x - v(x) u_x + g(u) + f(x)$\n",
    "\n",
    "**主要组件**:\n",
    "- Branch Network: 编码输入函数信息\n",
    "- Trunk Network: 编码查询点坐标信息\n",
    "- 通过内积运算得到最终输出"
   ]
  },
  {
   "cell_type": "markdown",
   "id": "170242c5",
   "metadata": {},
   "source": [
    "## 1. 导入必要的库\n",
    "\n",
    "导入PyTorch、NumPy等必要的库，用于神经网络构建、数据处理和可视化。"
   ]
  },
  {
   "cell_type": "code",
   "execution_count": 1,
   "id": "349e0385",
   "metadata": {},
   "outputs": [
    {
     "name": "stdout",
     "output_type": "stream",
     "text": [
      "使用设备: cuda:1\n"
     ]
    }
   ],
   "source": [
    "import torch\n",
    "import torch.nn as nn\n",
    "import torch.optim as optim\n",
    "from torch.utils.data import Dataset, DataLoader\n",
    "import numpy as np\n",
    "import matplotlib.pyplot as plt\n",
    "from scipy.interpolate import griddata\n",
    "from tqdm import tqdm\n",
    "import warnings\n",
    "warnings.filterwarnings('ignore')\n",
    "\n",
    "# 设置随机种子\n",
    "torch.manual_seed(42)\n",
    "np.random.seed(42)\n",
    "\n",
    "# 检查GPU可用性\n",
    "device = torch.device('cuda:1' if torch.cuda.is_available() else 'cpu')\n",
    "print(f'使用设备: {device}')"
   ]
  },
  {
   "cell_type": "markdown",
   "id": "788524b8",
   "metadata": {},
   "source": [
    "## 2. 数据生成器类\n",
    "\n",
    "自定义Dataset类，用于管理训练数据的批次生成。包含输入函数u、查询点y和对应的解s。"
   ]
  },
  {
   "cell_type": "code",
   "execution_count": 2,
   "id": "a49902cd",
   "metadata": {},
   "outputs": [],
   "source": [
    "class DeepONetDataset(Dataset):\n",
    "    def __init__(self, u, y, s):\n",
    "        \"\"\"\n",
    "        u: 输入函数样本 (N*P, m)\n",
    "        y: 查询点坐标 (N*P, 2) - (x, t)\n",
    "        s: 对应的解值 (N*P, 1)\n",
    "        \"\"\"\n",
    "        self.u = torch.FloatTensor(u)\n",
    "        self.y = torch.FloatTensor(y) \n",
    "        self.s = torch.FloatTensor(s)\n",
    "        \n",
    "    def __len__(self):\n",
    "        return len(self.u)\n",
    "    \n",
    "    def __getitem__(self, idx):\n",
    "        return self.u[idx], self.y[idx], self.s[idx]"
   ]
  },
  {
   "cell_type": "markdown",
   "id": "d368d597",
   "metadata": {},
   "source": [
    "## 3. 多层感知器(MLP)定义\n",
    "\n",
    "构建基础的全连接神经网络，使用tanh激活函数。这将作为Branch和Trunk网络的基础架构。"
   ]
  },
  {
   "cell_type": "code",
   "execution_count": 3,
   "id": "52623bf9",
   "metadata": {},
   "outputs": [],
   "source": [
    "class MLP(nn.Module):\n",
    "    def __init__(self, layers, activation=nn.Tanh()):\n",
    "        super(MLP, self).__init__()\n",
    "        self.layers = nn.ModuleList()\n",
    "        self.activation = activation\n",
    "        \n",
    "        for i in range(len(layers) - 1):\n",
    "            self.layers.append(nn.Linear(layers[i], layers[i+1]))\n",
    "            \n",
    "        # Xavier初始化\n",
    "        for layer in self.layers:\n",
    "            nn.init.xavier_normal_(layer.weight)\n",
    "            nn.init.zeros_(layer.bias)\n",
    "    \n",
    "    def forward(self, x):\n",
    "        for i, layer in enumerate(self.layers[:-1]):\n",
    "            x = self.activation(layer(x))\n",
    "        x = self.layers[-1](x)  # 最后一层不加激活函数\n",
    "        return x"
   ]
  },
  {
   "cell_type": "markdown",
   "id": "99a697ca",
   "metadata": {},
   "source": [
    "## 4. DeepONet模型定义\n",
    "\n",
    "实现完整的DeepONet架构，包含Branch网络、Trunk网络和最终的内积运算。"
   ]
  },
  {
   "cell_type": "code",
   "execution_count": 4,
   "id": "12fc4e00",
   "metadata": {},
   "outputs": [],
   "source": [
    "class DeepONet(nn.Module):\n",
    "    def __init__(self, branch_layers, trunk_layers):\n",
    "        super(DeepONet, self).__init__()\n",
    "        \n",
    "        self.branch_net = MLP(branch_layers)\n",
    "        self.trunk_net = MLP(trunk_layers)\n",
    "        \n",
    "        # 确保branch和trunk输出维度相同\n",
    "        assert branch_layers[-1] == trunk_layers[-1], \"Branch和Trunk网络输出维度必须相同\"\n",
    "        \n",
    "    def forward(self, u, y):\n",
    "        \"\"\"\n",
    "        u: 输入函数 (batch_size, m)\n",
    "        y: 查询点 (batch_size, 2)\n",
    "        \"\"\"\n",
    "        # Branch网络编码输入函数\n",
    "        branch_out = self.branch_net(u)  # (batch_size, p)\n",
    "        \n",
    "        # Trunk网络编码查询点\n",
    "        trunk_out = self.trunk_net(y)    # (batch_size, p)\n",
    "        \n",
    "        # 内积运算\n",
    "        output = torch.sum(branch_out * trunk_out, dim=1, keepdim=True)\n",
    "        \n",
    "        return output"
   ]
  },
  {
   "cell_type": "markdown",
   "id": "f864eb63",
   "metadata": {},
   "source": [
    "## 5. 高斯随机场(GRF)生成函数\n",
    "\n",
    "实现径向基函数(RBF)核，用于生成高斯随机场作为PDE的强迫项f(x)。"
   ]
  },
  {
   "cell_type": "code",
   "execution_count": 5,
   "id": "7fec3600",
   "metadata": {},
   "outputs": [],
   "source": [
    "def rbf_kernel(x1, x2, output_scale=1.0, length_scale=0.2):\n",
    "    \"\"\"\n",
    "    径向基函数核\n",
    "    \"\"\"\n",
    "    x1 = x1.reshape(-1, 1)\n",
    "    x2 = x2.reshape(1, -1)\n",
    "    \n",
    "    r2 = ((x1 - x2) / length_scale) ** 2\n",
    "    return output_scale * np.exp(-0.5 * r2)\n",
    "\n",
    "def generate_grf_sample(x_grid, length_scale=0.2, output_scale=1.0):\n",
    "    \"\"\"\n",
    "    生成高斯随机场样本\n",
    "    \"\"\"\n",
    "    n = len(x_grid)\n",
    "    K = rbf_kernel(x_grid, x_grid, output_scale, length_scale)\n",
    "    \n",
    "    # 添加数值稳定性的抖动\n",
    "    jitter = 1e-10\n",
    "    K += jitter * np.eye(n)\n",
    "    \n",
    "    # Cholesky分解采样\n",
    "    L = np.linalg.cholesky(K)\n",
    "    z = np.random.normal(0, 1, n)\n",
    "    sample = L @ z\n",
    "    \n",
    "    return sample"
   ]
  },
  {
   "cell_type": "markdown",
   "id": "da19f163",
   "metadata": {},
   "source": [
    "## 6. 扩散反应方程数值求解器\n",
    "\n",
    "使用有限差分方法求解一维扩散反应方程，生成训练数据。"
   ]
  },
  {
   "cell_type": "code",
   "execution_count": 6,
   "id": "15d943bd",
   "metadata": {},
   "outputs": [],
   "source": [
    "def solve_diffusion_reaction(Nx, Nt, length_scale=0.2):\n",
    "    \"\"\"\n",
    "    求解扩散反应方程: u_t = (k(x) u_x)_x - v(x) u_x + g(u) + f(x)\n",
    "    \"\"\"\n",
    "    # 空间和时间域\n",
    "    xmin, xmax = 0, 1\n",
    "    tmin, tmax = 0, 1\n",
    "    \n",
    "    # 方程参数\n",
    "    k = lambda x: 0.01 * np.ones_like(x)  # 扩散系数\n",
    "    v = lambda x: np.zeros_like(x)        # 对流系数\n",
    "    g = lambda u: 0.01 * u ** 2           # 反应项\n",
    "    dg = lambda u: 0.02 * u               # 反应项导数\n",
    "    u0 = lambda x: np.zeros_like(x)       # 初始条件\n",
    "    \n",
    "    # 生成网格\n",
    "    x = np.linspace(xmin, xmax, Nx)\n",
    "    t = np.linspace(tmin, tmax, Nt)\n",
    "    h = x[1] - x[0]\n",
    "    dt = t[1] - t[0]\n",
    "    h2 = h ** 2\n",
    "    \n",
    "    # 生成强迫项(GRF样本)\n",
    "    N_grf = 512\n",
    "    x_grf = np.linspace(xmin, xmax, N_grf)\n",
    "    grf_sample = generate_grf_sample(x_grf, length_scale)\n",
    "    \n",
    "    # 插值强迫项到计算网格\n",
    "    f = np.interp(x, x_grf, grf_sample)\n",
    "    \n",
    "    # 计算系数\n",
    "    k_vals = k(x)\n",
    "    v_vals = v(x)\n",
    "    \n",
    "    # 有限差分算子\n",
    "    D1 = np.eye(Nx, k=1) - np.eye(Nx, k=-1)\n",
    "    D2 = -2 * np.eye(Nx) + np.eye(Nx, k=-1) + np.eye(Nx, k=1)\n",
    "    D3 = np.eye(Nx - 2)\n",
    "    \n",
    "    M = -np.diag(D1 @ k_vals) @ D1 - 4 * np.diag(k_vals) @ D2\n",
    "    m_bond = 8 * h2 / dt * D3 + M[1:-1, 1:-1]\n",
    "    v_bond = 2 * h * np.diag(v_vals[1:-1]) @ D1[1:-1, 1:-1] + \\\n",
    "             2 * h * np.diag(v_vals[2:] - v_vals[:Nx-2])\n",
    "    mv_bond = m_bond + v_bond\n",
    "    c = 8 * h2 / dt * D3 - M[1:-1, 1:-1] - v_bond\n",
    "    \n",
    "    # 初始化解\n",
    "    u = np.zeros((Nx, Nt))\n",
    "    u[:, 0] = u0(x)\n",
    "    \n",
    "    # 时间步进\n",
    "    for i in range(Nt - 1):\n",
    "        gi = g(u[1:-1, i])\n",
    "        dgi = dg(u[1:-1, i])\n",
    "        h2dgi = np.diag(4 * h2 * dgi)\n",
    "        A = mv_bond - h2dgi\n",
    "        b1 = 8 * h2 * (0.5 * f[1:-1] + 0.5 * f[1:-1] + gi)\n",
    "        b2 = (c - h2dgi) @ u[1:-1, i]\n",
    "        u[1:-1, i + 1] = np.linalg.solve(A, b1 + b2)\n",
    "    \n",
    "    return x, t, u, f"
   ]
  },
  {
   "cell_type": "markdown",
   "id": "cd9b669c",
   "metadata": {},
   "source": [
    "## 7. 训练数据生成函数\n",
    "\n",
    "生成DeepONet训练所需的数据集，包括输入函数、查询点和对应的解值。"
   ]
  },
  {
   "cell_type": "code",
   "execution_count": 7,
   "id": "0e84d5ed",
   "metadata": {},
   "outputs": [],
   "source": [
    "def generate_training_data(N_samples, P_sensors, Nx=100, Nt=100, length_scale=0.2):\n",
    "    \"\"\"\n",
    "    生成训练数据\n",
    "    N_samples: 输入样本数量\n",
    "    P_sensors: 每个样本的传感器数量\n",
    "    \"\"\"\n",
    "    u_data = []\n",
    "    y_data = []\n",
    "    s_data = []\n",
    "    \n",
    "    m = Nx  # 输入传感器数量\n",
    "    \n",
    "    for _ in tqdm(range(N_samples), desc=\"生成训练数据\"):\n",
    "        # 求解PDE\n",
    "        x, t, u_solution, f_input = solve_diffusion_reaction(Nx, Nt, length_scale)\n",
    "        \n",
    "        # 输入函数采样点(均匀分布在x方向)\n",
    "        xx = np.linspace(0, 1, m)\n",
    "        u_input = np.interp(xx, x, f_input)\n",
    "        \n",
    "        # 随机选择输出传感器位置\n",
    "        idx_x = np.random.randint(0, Nx, P_sensors)\n",
    "        idx_t = np.random.randint(0, Nt, P_sensors)\n",
    "        \n",
    "        y_sensors = np.column_stack([x[idx_x], t[idx_t]])\n",
    "        s_sensors = u_solution[idx_x, idx_t]\n",
    "        \n",
    "        # 每个传感器点都对应同一个输入函数\n",
    "        for i in range(P_sensors):\n",
    "            u_data.append(u_input)\n",
    "            y_data.append(y_sensors[i])\n",
    "            s_data.append([s_sensors[i]])\n",
    "    \n",
    "    return np.array(u_data), np.array(y_data), np.array(s_data)\n",
    "\n",
    "def generate_test_data(N_test, P_test, Nx=100, Nt=100, length_scale=0.2):\n",
    "    \"\"\"\n",
    "    生成测试数据(全网格点)\n",
    "    \"\"\"\n",
    "    u_test = []\n",
    "    y_test = []\n",
    "    s_test = []\n",
    "    \n",
    "    m = Nx\n",
    "    \n",
    "    for _ in range(N_test):\n",
    "        # 求解PDE\n",
    "        x, t, u_solution, f_input = solve_diffusion_reaction(P_test, P_test, length_scale)\n",
    "        \n",
    "        # 输入函数\n",
    "        xx = np.linspace(0, 1, m)\n",
    "        u_input = np.interp(xx, x, f_input)\n",
    "        \n",
    "        # 网格点\n",
    "        XX, TT = np.meshgrid(x, t)\n",
    "        y_grid = np.column_stack([XX.flatten(), TT.flatten()])\n",
    "        s_grid = u_solution.T.flatten()\n",
    "        \n",
    "        # 每个网格点都对应同一个输入函数\n",
    "        for i in range(len(y_grid)):\n",
    "            u_test.append(u_input)\n",
    "            y_test.append(y_grid[i])\n",
    "            s_test.append([s_grid[i]])\n",
    "    \n",
    "    return np.array(u_test), np.array(y_test), np.array(s_test)"
   ]
  },
  {
   "cell_type": "markdown",
   "id": "bb799e24",
   "metadata": {},
   "source": [
    "## 8. 训练参数设置和数据生成\n",
    "\n",
    "设置网络参数、生成训练数据并创建数据加载器。"
   ]
  },
  {
   "cell_type": "code",
   "execution_count": 8,
   "id": "a4a3d58b",
   "metadata": {},
   "outputs": [
    {
     "name": "stdout",
     "output_type": "stream",
     "text": [
      "开始生成训练数据...\n"
     ]
    },
    {
     "name": "stderr",
     "output_type": "stream",
     "text": [
      "生成训练数据: 100%|██████████| 5000/5000 [01:53<00:00, 43.99it/s]\n"
     ]
    },
    {
     "name": "stdout",
     "output_type": "stream",
     "text": [
      "训练数据形状:\n",
      "u_train: (500000, 100)\n",
      "y_train: (500000, 2)\n",
      "s_train: (500000, 1)\n"
     ]
    }
   ],
   "source": [
    "# 参数设置\n",
    "length_scale = 0.2\n",
    "Nx, Nt = 100, 100\n",
    "N_samples = 5000  # number of input samples - 与JAX代码一致\n",
    "m = Nx  # number of input sensors - 与JAX代码一致\n",
    "P_train = 100  # number of output sensors - 与JAX代码一致\n",
    "\n",
    "# 网络架构 - 与JAX代码完全一致\n",
    "branch_layers = [m, 50, 50, 50, 50, 50]\n",
    "trunk_layers = [2, 50, 50, 50, 50, 50]\n",
    "\n",
    "print(\"开始生成训练数据...\")\n",
    "u_train, y_train, s_train = generate_training_data(N_samples, P_train, Nx, Nt, length_scale)\n",
    "\n",
    "print(f\"训练数据形状:\")\n",
    "print(f\"u_train: {u_train.shape}\")\n",
    "print(f\"y_train: {y_train.shape}\")\n",
    "print(f\"s_train: {s_train.shape}\")"
   ]
  },
  {
   "cell_type": "markdown",
   "id": "c0557667",
   "metadata": {},
   "source": [
    "## 9. 模型初始化和训练设置\n",
    "\n",
    "创建DeepONet模型实例，设置优化器和损失函数。"
   ]
  },
  {
   "cell_type": "code",
   "execution_count": 9,
   "id": "18f93a55",
   "metadata": {},
   "outputs": [
    {
     "name": "stdout",
     "output_type": "stream",
     "text": [
      "模型参数数量: 25600\n",
      "模型已移至: cuda:1\n"
     ]
    }
   ],
   "source": [
    "# 创建数据集和数据加载器 - 与JAX代码一致\n",
    "dataset = DeepONetDataset(u_train, y_train, s_train)\n",
    "batch_size = 10000  # 与JAX代码中的batch_size一致\n",
    "dataloader = DataLoader(dataset, batch_size=batch_size, shuffle=True)\n",
    "\n",
    "# 初始化模型\n",
    "model = DeepONet(branch_layers, trunk_layers).to(device)\n",
    "\n",
    "# 优化器和损失函数 - 参数与JAX代码一致\n",
    "# JAX代码使用: optimizers.exponential_decay(1e-3, decay_steps=2000, decay_rate=0.9)\n",
    "optimizer = optim.Adam(model.parameters(), lr=1e-3)\n",
    "# 每2000步衰减一次，衰减率0.9\n",
    "scheduler = optim.lr_scheduler.StepLR(optimizer, step_size=2000, gamma=0.9)\n",
    "criterion = nn.MSELoss()\n",
    "\n",
    "print(f\"模型参数数量: {sum(p.numel() for p in model.parameters())}\")\n",
    "print(f\"模型已移至: {device}\")"
   ]
  },
  {
   "cell_type": "markdown",
   "id": "df93cac2",
   "metadata": {},
   "source": [
    "## 10. 模型训练\n",
    "\n",
    "执行模型训练循环，监控损失函数变化。"
   ]
  },
  {
   "cell_type": "code",
   "execution_count": 10,
   "id": "a8ed6704",
   "metadata": {},
   "outputs": [
    {
     "name": "stdout",
     "output_type": "stream",
     "text": [
      "开始训练，总迭代次数: 120000\n"
     ]
    },
    {
     "name": "stderr",
     "output_type": "stream",
     "text": [
      "Training:   0%|          | 1/120000 [00:00<5:53:22,  5.66it/s]"
     ]
    },
    {
     "name": "stdout",
     "output_type": "stream",
     "text": [
      "Iteration 0, Loss: 0.256336, LR: 0.001000\n"
     ]
    },
    {
     "name": "stderr",
     "output_type": "stream",
     "text": [
      "Training:   4%|▍         | 5002/120000 [09:09<4:43:35,  6.76it/s]"
     ]
    },
    {
     "name": "stdout",
     "output_type": "stream",
     "text": [
      "Iteration 5000, Loss: 0.000789, LR: 0.001000\n"
     ]
    },
    {
     "name": "stderr",
     "output_type": "stream",
     "text": [
      "Training:   8%|▊         | 10002/120000 [18:17<3:31:03,  8.69it/s]"
     ]
    },
    {
     "name": "stdout",
     "output_type": "stream",
     "text": [
      "Iteration 10000, Loss: 0.000329, LR: 0.001000\n"
     ]
    },
    {
     "name": "stderr",
     "output_type": "stream",
     "text": [
      "Training:  13%|█▎        | 15002/120000 [27:08<3:13:09,  9.06it/s]"
     ]
    },
    {
     "name": "stdout",
     "output_type": "stream",
     "text": [
      "Iteration 15000, Loss: 0.000228, LR: 0.001000\n"
     ]
    },
    {
     "name": "stderr",
     "output_type": "stream",
     "text": [
      "Training:  17%|█▋        | 20002/120000 [35:59<3:12:59,  8.64it/s]"
     ]
    },
    {
     "name": "stdout",
     "output_type": "stream",
     "text": [
      "Iteration 20000, Loss: 0.000138, LR: 0.001000\n"
     ]
    },
    {
     "name": "stderr",
     "output_type": "stream",
     "text": [
      "Training:  21%|██        | 25002/120000 [44:42<2:59:56,  8.80it/s]"
     ]
    },
    {
     "name": "stdout",
     "output_type": "stream",
     "text": [
      "Iteration 25000, Loss: 0.000139, LR: 0.001000\n"
     ]
    },
    {
     "name": "stderr",
     "output_type": "stream",
     "text": [
      "Training:  25%|██▌       | 30002/120000 [53:22<2:51:36,  8.74it/s]"
     ]
    },
    {
     "name": "stdout",
     "output_type": "stream",
     "text": [
      "Iteration 30000, Loss: 0.000062, LR: 0.001000\n"
     ]
    },
    {
     "name": "stderr",
     "output_type": "stream",
     "text": [
      "Training:  29%|██▉       | 35002/120000 [1:02:17<2:42:08,  8.74it/s]"
     ]
    },
    {
     "name": "stdout",
     "output_type": "stream",
     "text": [
      "Iteration 35000, Loss: 0.000040, LR: 0.001000\n"
     ]
    },
    {
     "name": "stderr",
     "output_type": "stream",
     "text": [
      "Training:  33%|███▎      | 40002/120000 [1:11:00<2:25:37,  9.16it/s]"
     ]
    },
    {
     "name": "stdout",
     "output_type": "stream",
     "text": [
      "Iteration 40000, Loss: 0.000055, LR: 0.001000\n"
     ]
    },
    {
     "name": "stderr",
     "output_type": "stream",
     "text": [
      "Training:  38%|███▊      | 45002/120000 [1:19:55<2:28:52,  8.40it/s]"
     ]
    },
    {
     "name": "stdout",
     "output_type": "stream",
     "text": [
      "Iteration 45000, Loss: 0.000128, LR: 0.001000\n"
     ]
    },
    {
     "name": "stderr",
     "output_type": "stream",
     "text": [
      "Training:  42%|████▏     | 50002/120000 [1:28:54<2:09:57,  8.98it/s]"
     ]
    },
    {
     "name": "stdout",
     "output_type": "stream",
     "text": [
      "Iteration 50000, Loss: 0.000047, LR: 0.001000\n"
     ]
    },
    {
     "name": "stderr",
     "output_type": "stream",
     "text": [
      "Training:  46%|████▌     | 55002/120000 [1:38:12<2:15:57,  7.97it/s]"
     ]
    },
    {
     "name": "stdout",
     "output_type": "stream",
     "text": [
      "Iteration 55000, Loss: 0.000060, LR: 0.001000\n"
     ]
    },
    {
     "name": "stderr",
     "output_type": "stream",
     "text": [
      "Training:  50%|█████     | 60002/120000 [1:47:35<1:48:19,  9.23it/s]"
     ]
    },
    {
     "name": "stdout",
     "output_type": "stream",
     "text": [
      "Iteration 60000, Loss: 0.000033, LR: 0.001000\n"
     ]
    },
    {
     "name": "stderr",
     "output_type": "stream",
     "text": [
      "Training:  54%|█████▍    | 65002/120000 [1:56:22<1:46:31,  8.61it/s]"
     ]
    },
    {
     "name": "stdout",
     "output_type": "stream",
     "text": [
      "Iteration 65000, Loss: 0.000118, LR: 0.001000\n"
     ]
    },
    {
     "name": "stderr",
     "output_type": "stream",
     "text": [
      "Training:  58%|█████▊    | 70002/120000 [2:05:24<1:39:10,  8.40it/s]"
     ]
    },
    {
     "name": "stdout",
     "output_type": "stream",
     "text": [
      "Iteration 70000, Loss: 0.000053, LR: 0.001000\n"
     ]
    },
    {
     "name": "stderr",
     "output_type": "stream",
     "text": [
      "Training:  63%|██████▎   | 75002/120000 [2:14:07<1:21:32,  9.20it/s]"
     ]
    },
    {
     "name": "stdout",
     "output_type": "stream",
     "text": [
      "Iteration 75000, Loss: 0.000056, LR: 0.001000\n"
     ]
    },
    {
     "name": "stderr",
     "output_type": "stream",
     "text": [
      "Training:  67%|██████▋   | 80002/120000 [2:22:58<1:16:50,  8.68it/s]"
     ]
    },
    {
     "name": "stdout",
     "output_type": "stream",
     "text": [
      "Iteration 80000, Loss: 0.000047, LR: 0.001000\n"
     ]
    },
    {
     "name": "stderr",
     "output_type": "stream",
     "text": [
      "Training:  71%|███████   | 85002/120000 [2:32:10<1:09:22,  8.41it/s]"
     ]
    },
    {
     "name": "stdout",
     "output_type": "stream",
     "text": [
      "Iteration 85000, Loss: 0.000187, LR: 0.001000\n"
     ]
    },
    {
     "name": "stderr",
     "output_type": "stream",
     "text": [
      "Training:  75%|███████▌  | 90002/120000 [2:41:30<57:34,  8.68it/s]  "
     ]
    },
    {
     "name": "stdout",
     "output_type": "stream",
     "text": [
      "Iteration 90000, Loss: 0.000080, LR: 0.001000\n"
     ]
    },
    {
     "name": "stderr",
     "output_type": "stream",
     "text": [
      "Training:  79%|███████▉  | 95002/120000 [2:50:52<49:48,  8.37it/s]  "
     ]
    },
    {
     "name": "stdout",
     "output_type": "stream",
     "text": [
      "Iteration 95000, Loss: 0.000049, LR: 0.001000\n"
     ]
    },
    {
     "name": "stderr",
     "output_type": "stream",
     "text": [
      "Training:  83%|████████▎ | 100002/120000 [3:00:11<39:46,  8.38it/s]"
     ]
    },
    {
     "name": "stdout",
     "output_type": "stream",
     "text": [
      "Iteration 100000, Loss: 0.000125, LR: 0.001000\n"
     ]
    },
    {
     "name": "stderr",
     "output_type": "stream",
     "text": [
      "Training:  88%|████████▊ | 105002/120000 [3:09:32<30:12,  8.28it/s]"
     ]
    },
    {
     "name": "stdout",
     "output_type": "stream",
     "text": [
      "Iteration 105000, Loss: 0.000106, LR: 0.001000\n"
     ]
    },
    {
     "name": "stderr",
     "output_type": "stream",
     "text": [
      "Training:  92%|█████████▏| 110002/120000 [3:18:28<19:39,  8.48it/s]"
     ]
    },
    {
     "name": "stdout",
     "output_type": "stream",
     "text": [
      "Iteration 110000, Loss: 0.000028, LR: 0.001000\n"
     ]
    },
    {
     "name": "stderr",
     "output_type": "stream",
     "text": [
      "Training:  96%|█████████▌| 115002/120000 [3:27:20<09:26,  8.82it/s]"
     ]
    },
    {
     "name": "stdout",
     "output_type": "stream",
     "text": [
      "Iteration 115000, Loss: 0.000695, LR: 0.001000\n"
     ]
    },
    {
     "name": "stderr",
     "output_type": "stream",
     "text": [
      "Training: 100%|██████████| 120000/120000 [3:36:10<00:00,  9.25it/s]"
     ]
    },
    {
     "name": "stdout",
     "output_type": "stream",
     "text": [
      "训练完成!\n"
     ]
    },
    {
     "name": "stderr",
     "output_type": "stream",
     "text": [
      "\n"
     ]
    }
   ],
   "source": [
    "# 训练循环 - 完全按照JAX代码还原\n",
    "nIter = 120000  # 与JAX代码完全一致\n",
    "loss_history = []\n",
    "\n",
    "model.train()\n",
    "step_count = 0\n",
    "\n",
    "# 模拟JAX代码的数据迭代器\n",
    "data_iterator = iter(dataloader)\n",
    "\n",
    "print(f\"开始训练，总迭代次数: {nIter}\")\n",
    "\n",
    "for it in tqdm(range(nIter), desc=\"Training\"):\n",
    "    try:\n",
    "        u_batch, y_batch, s_batch = next(data_iterator)\n",
    "    except StopIteration:\n",
    "        # 重新创建数据迭代器（JAX代码中会自动循环）\n",
    "        data_iterator = iter(dataloader)\n",
    "        u_batch, y_batch, s_batch = next(data_iterator)\n",
    "    \n",
    "    u_batch = u_batch.to(device)\n",
    "    y_batch = y_batch.to(device)\n",
    "    s_batch = s_batch.to(device)\n",
    "    \n",
    "    optimizer.zero_grad()\n",
    "    \n",
    "    # 前向传播\n",
    "    s_pred = model(u_batch, y_batch)\n",
    "    \n",
    "    # 计算损失\n",
    "    loss = criterion(s_pred, s_batch)\n",
    "    \n",
    "    # 反向传播\n",
    "    loss.backward()\n",
    "    optimizer.step()\n",
    "    \n",
    "    # 学习率调度 - 每2000步更新一次（与JAX代码一致）\n",
    "    step_count += 1\n",
    "    if step_count % 2000 == 0:\n",
    "        scheduler.step()\n",
    "    \n",
    "    # 记录损失 - 每100次迭代记录一次（与JAX代码一致）\n",
    "    if it % 100 == 0:\n",
    "        loss_history.append(loss.item())\n",
    "        if it % 5000 == 0:  # 每5000次打印一次进度\n",
    "            print(f'Iteration {it}, Loss: {loss.item():.6f}, LR: {optimizer.param_groups[0][\"lr\"]:.6f}')\n",
    "\n",
    "print(\"训练完成!\")"
   ]
  },
  {
   "cell_type": "markdown",
   "id": "0325a5f2",
   "metadata": {},
   "source": [
    "## 11. 损失函数可视化\n",
    "\n",
    "绘制训练过程中损失函数的变化曲线。"
   ]
  },
  {
   "cell_type": "code",
   "execution_count": 11,
   "id": "efeecaad",
   "metadata": {},
   "outputs": [
    {
     "data": {
      "image/png": "[encoded data removed]",
      "text/plain": [
       "<Figure size 600x500 with 1 Axes>"
      ]
     },
     "metadata": {},
     "output_type": "display_data"
    }
   ],
   "source": [
    "# 绘制损失曲线 - 与JAX代码风格一致\n",
    "plt.figure(figsize=(6, 5))  # 与JAX代码相同的图像大小\n",
    "plt.plot(loss_history, lw=2)  # 与JAX代码相同的线宽\n",
    "plt.xlabel('Iteration')\n",
    "plt.ylabel('Loss')\n",
    "plt.yscale('log')\n",
    "plt.tight_layout()\n",
    "plt.show()"
   ]
  },
  {
   "cell_type": "markdown",
   "id": "dcf8b05e",
   "metadata": {},
   "source": [
    "## 12. 模型测试和误差计算\n",
    "\n",
    "生成测试数据，评估模型性能并计算相对L2误差。"
   ]
  },
  {
   "cell_type": "code",
   "execution_count": 12,
   "id": "4e98117f",
   "metadata": {},
   "outputs": [
    {
     "name": "stdout",
     "output_type": "stream",
     "text": [
      "生成测试数据...\n",
      "Mean of relative L2 error of s: 1.59e-02\n",
      "Std of relative L2 error of s: 8.30e-03\n"
     ]
    }
   ],
   "source": [
    "# 生成测试数据 - 与JAX代码参数完全一致\n",
    "print(\"生成测试数据...\")\n",
    "N_test = 100  # number of input samples - 与JAX代码一致\n",
    "P_test = m    # number of sensors - 与JAX代码一致（P_test = m = 100）\n",
    "\n",
    "# 计算多个测试样本的误差（与JAX代码逻辑一致）\n",
    "errors = []\n",
    "for i in range(N_test):\n",
    "    u_test, y_test, s_test = generate_test_data(1, P_test, P_test, P_test, length_scale)\n",
    "    \n",
    "    # 模型预测\n",
    "    model.eval()\n",
    "    with torch.no_grad():\n",
    "        u_test_tensor = torch.FloatTensor(u_test).to(device)\n",
    "        y_test_tensor = torch.FloatTensor(y_test).to(device)\n",
    "        \n",
    "        s_pred = model(u_test_tensor, y_test_tensor).cpu().numpy()\n",
    "    \n",
    "    # 计算相对L2误差\n",
    "    relative_error = np.linalg.norm(s_test.flatten() - s_pred.flatten()) / np.linalg.norm(s_test.flatten())\n",
    "    errors.append(relative_error)\n",
    "\n",
    "errors = np.array(errors)\n",
    "print(f'Mean of relative L2 error of s: {errors.mean():.2e}')\n",
    "print(f'Std of relative L2 error of s: {errors.std():.2e}')"
   ]
  },
  {
   "cell_type": "markdown",
   "id": "33b8d94a",
   "metadata": {},
   "source": [
    "## 13. 结果可视化\n",
    "\n",
    "可视化真实解、预测解以及它们之间的误差分布。"
   ]
  },
  {
   "cell_type": "code",
   "execution_count": 13,
   "id": "1b09d944",
   "metadata": {},
   "outputs": [
    {
     "name": "stdout",
     "output_type": "stream",
     "text": [
      "生成单个测试样本用于可视化...\n",
      "Relative L2 error: 1.931e-02\n"
     ]
    },
    {
     "data": {
      "image/png": "[encoded data removed]",
      "text/plain": [
       "<Figure size 1800x500 with 6 Axes>"
      ]
     },
     "metadata": {},
     "output_type": "display_data"
    },
    {
     "name": "stdout",
     "output_type": "stream",
     "text": [
      "最终相对L2误差: 1.9308e-02\n"
     ]
    }
   ],
   "source": [
    "# 生成一个测试样本进行可视化 - 与JAX代码完全一致\n",
    "print(\"生成单个测试样本用于可视化...\")\n",
    "P_test_vis = 100  # 与JAX代码一致\n",
    "Nx_vis = m        # 与JAX代码一致\n",
    "\n",
    "# 设置固定种子以确保结果可重复（模拟JAX的random.PRNGKey(12345)）\n",
    "np.random.seed(12345)\n",
    "u_test, y_test, s_test = generate_test_data(1, P_test_vis, P_test_vis, P_test_vis, length_scale)\n",
    "\n",
    "# 模型预测\n",
    "model.eval()\n",
    "with torch.no_grad():\n",
    "    u_test_tensor = torch.FloatTensor(u_test).to(device)\n",
    "    y_test_tensor = torch.FloatTensor(y_test).to(device)\n",
    "    \n",
    "    s_pred = model(u_test_tensor, y_test_tensor).cpu().numpy()\n",
    "\n",
    "# 生成均匀网格用于插值 - 与JAX代码一致\n",
    "x = np.linspace(0, 1, Nx_vis)\n",
    "t = np.linspace(0, 1, Nt)  # 使用原始的Nt=100\n",
    "XX, TT = np.meshgrid(x, t)\n",
    "\n",
    "# 网格数据插值 - 与JAX代码完全一致\n",
    "S_pred = griddata(y_test, s_pred.flatten(), (XX, TT), method='cubic')\n",
    "S_test = griddata(y_test, s_test.flatten(), (XX, TT), method='cubic')\n",
    "\n",
    "# 计算相对L2误差\n",
    "error = np.linalg.norm(S_pred - S_test, 2) / np.linalg.norm(S_test, 2)\n",
    "print(f'Relative L2 error: {error:.3e}')\n",
    "\n",
    "# 绘制结果 - 与JAX代码的绘图风格保持一致\n",
    "fig = plt.figure(figsize=(18, 5))\n",
    "\n",
    "plt.subplot(1, 3, 1)\n",
    "plt.pcolor(XX, TT, S_test, cmap='seismic')\n",
    "plt.colorbar()\n",
    "plt.xlabel('$x$')\n",
    "plt.ylabel('$t$')\n",
    "plt.title('Exact $s(x,t)$')\n",
    "plt.tight_layout()\n",
    "\n",
    "plt.subplot(1, 3, 2)\n",
    "plt.pcolor(XX, TT, S_pred, cmap='seismic')\n",
    "plt.colorbar()\n",
    "plt.xlabel('$x$')\n",
    "plt.ylabel('$t$')\n",
    "plt.title('Predict $s(x,t)$')\n",
    "plt.tight_layout()\n",
    "\n",
    "plt.subplot(1, 3, 3)\n",
    "plt.pcolor(XX, TT, S_pred - S_test, cmap='seismic')\n",
    "plt.colorbar()\n",
    "plt.xlabel('$x$')\n",
    "plt.ylabel('$t$')\n",
    "plt.title('Absolute error')\n",
    "plt.tight_layout()\n",
    "plt.show()\n",
    "\n",
    "print(f\"最终相对L2误差: {error:.4e}\")"
   ]
  },
  {
   "cell_type": "markdown",
   "id": "6f82cee8",
   "metadata": {},
   "source": [
    "## 14. 模型保存\n",
    "\n",
    "保存训练好的模型以供后续使用。"
   ]
  },
  {
   "cell_type": "code",
   "execution_count": 14,
   "id": "78572360",
   "metadata": {},
   "outputs": [
    {
     "name": "stdout",
     "output_type": "stream",
     "text": [
      "模型已保存为 'deeponet_diffusion_reaction_full.pth'\n",
      "训练参数总结:\n",
      "- 训练样本数: 5000\n",
      "- 训练迭代次数: 120000\n",
      "- 批次大小: 10000\n",
      "- Branch网络层数: [100, 50, 50, 50, 50, 50]\n",
      "- Trunk网络层数: [2, 50, 50, 50, 50, 50]\n",
      "- 最终测试误差均值: 1.59e-02\n",
      "- 最终测试误差标准差: 8.30e-03\n"
     ]
    }
   ],
   "source": [
    "# 保存模型 - 包含完整的训练信息\n",
    "torch.save({\n",
    "    'model_state_dict': model.state_dict(),\n",
    "    'branch_layers': branch_layers,\n",
    "    'trunk_layers': trunk_layers,\n",
    "    'loss_history': loss_history,\n",
    "    'training_iterations': nIter,\n",
    "    'final_errors': errors if 'errors' in locals() else None\n",
    "}, 'deeponet_diffusion_reaction_full.pth')\n",
    "\n",
    "print(\"模型已保存为 'deeponet_diffusion_reaction_full.pth'\")\n",
    "print(f\"训练参数总结:\")\n",
    "print(f\"- 训练样本数: {N_samples}\")\n",
    "print(f\"- 训练迭代次数: {nIter}\")\n",
    "print(f\"- 批次大小: {batch_size}\")\n",
    "print(f\"- Branch网络层数: {branch_layers}\")\n",
    "print(f\"- Trunk网络层数: {trunk_layers}\")\n",
    "print(f\"- 最终测试误差均值: {errors.mean():.2e}\" if 'errors' in locals() else \"\")\n",
    "print(f\"- 最终测试误差标准差: {errors.std():.2e}\" if 'errors' in locals() else \"\")"
   ]
  }
 ],
 "metadata": {
  "kernelspec": {
   "display_name": "IFact",
   "language": "python",
   "name": "python3"
  },
  "language_info": {
   "codemirror_mode": {
    "name": "ipython",
    "version": 3
   },
   "file_extension": ".py",
   "mimetype": "text/x-python",
   "name": "python",
   "nbconvert_exporter": "python",
   "pygments_lexer": "ipython3",
   "version": "3.10.18"
  }
 },
 "nbformat": 4,
 "nbformat_minor": 5
}
